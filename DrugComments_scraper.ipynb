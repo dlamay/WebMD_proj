{
 "cells": [
  {
   "cell_type": "code",
   "execution_count": 7,
   "metadata": {},
   "outputs": [],
   "source": [
    "import requests\n",
    "from bs4 import BeautifulSoup\n",
    "import numpy as np\n",
    "import pandas as pd"
   ]
  },
  {
   "cell_type": "code",
   "execution_count": 8,
   "metadata": {},
   "outputs": [],
   "source": [
    "url = 'https://www.webmd.com/drugs/drugreview-63163-adderall.aspx?drugid=63163&drugname=adderall'\n",
    "i = 1\n",
    "comments = []\n",
    "user_info = []\n",
    "while i <=116:\n",
    "    r = requests.get(url)\n",
    "    soup = BeautifulSoup(r.content, 'html.parser')\n",
    "    main = soup.find('div',id='UserRater')\n",
    "    for user in main.find_all('div', class_ = 'userPost'):\n",
    "        user_info.append(user.find('p',class_ = 'reviewerInfo').text)\n",
    "        comm = user.find_all('p',class_ = 'comment')\n",
    "        comments.append(comm[1].br.next_sibling)\n",
    "    page = main.find('div', class_ = 'postPaging')\n",
    "    links = page.find_all('a')\n",
    "    if len(links) == 2: \n",
    "        url='https://www.webmd.com' + (links[0]['href'])\n",
    "    else:\n",
    "        url='https://www.webmd.com' + (links[2]['href'])\n",
    "    i += 1"
   ]
  },
  {
   "cell_type": "code",
   "execution_count": 13,
   "metadata": {},
   "outputs": [],
   "source": [
    "url = \"https://www.webmd.com/drugs/drugreview-63163-Adderall+oral.aspx?drugid=63163&drugname=Adderall+oral&pageIndex=116&sortby=3&conditionFilter=-500\"\n",
    "i = 116\n",
    "while i <=232:\n",
    "    r = requests.get(url)\n",
    "    soup = BeautifulSoup(r.content, 'html.parser')\n",
    "    main = soup.find('div',id='UserRater')\n",
    "    for user in main.find_all('div', class_ = 'userPost'):\n",
    "        user_info.append(user.find('p',class_ = 'reviewerInfo').text)\n",
    "        comm = user.find_all('p',class_ = 'comment')\n",
    "        comments.append(comm[1].br.next_sibling)\n",
    "    page = main.find('div', class_ = 'postPaging')\n",
    "    links = page.find_all('a')\n",
    "    if len(links) == 2: \n",
    "        url='https://www.webmd.com' + (links[0]['href'])\n",
    "    else:\n",
    "        url='https://www.webmd.com' + (links[2]['href'])\n",
    "    i += 1"
   ]
  },
  {
   "cell_type": "code",
   "execution_count": 55,
   "metadata": {},
   "outputs": [],
   "source": [
    "comment_df = pd.DataFrame({'user info' : user_info,\n",
    "                          'comments' : comments })\n",
    "\n"
   ]
  },
  {
   "cell_type": "code",
   "execution_count": 56,
   "metadata": {},
   "outputs": [
    {
     "name": "stdout",
     "output_type": "stream",
     "text": [
      "<class 'pandas.core.frame.DataFrame'>\n",
      "RangeIndex: 1163 entries, 0 to 1162\n",
      "Data columns (total 2 columns):\n",
      "user info    1163 non-null object\n",
      "comments     1163 non-null object\n",
      "dtypes: object(2)\n",
      "memory usage: 18.2+ KB\n"
     ]
    }
   ],
   "source": [
    "comment_df.info()"
   ]
  },
  {
   "cell_type": "code",
   "execution_count": 57,
   "metadata": {},
   "outputs": [],
   "source": [
    "comment_df.to_csv('Adderall_Comments.csv',index=False)"
   ]
  },
  {
   "cell_type": "code",
   "execution_count": null,
   "metadata": {},
   "outputs": [],
   "source": []
  }
 ],
 "metadata": {
  "kernelspec": {
   "display_name": "Python 3",
   "language": "python",
   "name": "python3"
  },
  "language_info": {
   "codemirror_mode": {
    "name": "ipython",
    "version": 3
   },
   "file_extension": ".py",
   "mimetype": "text/x-python",
   "name": "python",
   "nbconvert_exporter": "python",
   "pygments_lexer": "ipython3",
   "version": "3.7.3"
  }
 },
 "nbformat": 4,
 "nbformat_minor": 2
}
